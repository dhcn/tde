{
 "cells": [
  {
   "cell_type": "code",
   "execution_count": 10,
   "metadata": {
    "collapsed": true
   },
   "outputs": [
    {
     "data": {
      "text/plain": "<Figure size 432x288 with 1 Axes>",
      "image/png": "[encoded data removed]"
     },
     "metadata": {
      "needs_background": "light"
     },
     "output_type": "display_data"
    }
   ],
   "source": [
    "import numpy as np\n",
    "import matplotlib.pyplot as plt\n",
    "import matplotlib\n",
    "#a = sorted([f.name for f in matplotlib.font_manager.fontManager.ttflist])\n",
    "#for i in a:\n",
    "    #print(i)\n",
    "# 将全局的字体设置为黑体\n",
    "plt.rcParams['font.family'] = 'Times New Roman'\n",
    "\n",
    "# 数据\n",
    "N = 5\n",
    "y = [20, 10, 30, 25, 15]\n",
    "x = np.arange(N)\n",
    "# 添加地名坐标\n",
    "str1 = (\"bj\", \"sh\", \"wh\", \"sj\", \"ct\")\n",
    "\n",
    "# 绘图 x x轴， height 高度, 默认：color=\"blue\", width=0.8\n",
    "p1 = plt.bar(x, height=y, width=0.9, label=\"city index\", tick_label=str1)\n",
    "\n",
    "# 添加数据标签，也就是给柱子顶部添加标签\n",
    "for a, b in zip(x, y):\n",
    "    plt.text(a, b + 0.05, '%.0f' % b, ha='center', va='bottom', fontsize=10)\n",
    "\n",
    "# 添加图例\n",
    "plt.legend()\n",
    "\n",
    "# 展示图形\n",
    "plt.show()"
   ]
  },
  {
   "cell_type": "code",
   "execution_count": 15,
   "outputs": [
    {
     "name": "stdout",
     "output_type": "stream",
     "text": [
      "3614761\n",
      "148981\n"
     ]
    }
   ],
   "source": [
    "import json\n",
    "with open('../data/OkexSubscriber2020-07-17', 'r') as f:\n",
    "    update_count =0\n",
    "    trade_count=0\n",
    "    for line in f.readlines():\n",
    "        line_data = json.loads(line)\n",
    "        if \"table\" in line_data and line_data[\"table\"]=='spot/depth_l2_tbt':\n",
    "            update_count=update_count+1\n",
    "        if \"table\" in line_data and line_data[\"table\"]=='spot/trade':\n",
    "            trade_count = trade_count+1\n",
    "    print(update_count)\n",
    "    print(trade_count)"
   ],
   "metadata": {
    "collapsed": false,
    "pycharm": {
     "name": "#%%\n"
    }
   }
  },
  {
   "cell_type": "code",
   "execution_count": 16,
   "outputs": [
    {
     "name": "stdout",
     "output_type": "stream",
     "text": [
      "0\n",
      "583928\n"
     ]
    }
   ],
   "source": [
    "import json\n",
    "with open('../data/OkexSubscriber2020-05-27', 'r') as f:\n",
    "    update_count =0\n",
    "    for line in f.readlines():\n",
    "        line_data = json.loads(line)\n",
    "        #if \"table\" in line_data and line_data[\"table\"]=='spot/depth_l2_tbt':\n",
    "        #    update_count=update_count+1\n",
    "        if \"table\" in line_data and line_data[\"table\"]=='spot/trade':\n",
    "            trade_count = trade_count+1\n",
    "    print(update_count)\n",
    "    print(trade_count)"
   ],
   "metadata": {
    "collapsed": false,
    "pycharm": {
     "name": "#%%\n"
    }
   }
  },
  {
   "cell_type": "code",
   "execution_count": 1,
   "outputs": [],
   "source": [
    "import json\n",
    "with open('../data/BianData2021-01-01', 'r') as f:\n",
    "    #update_count =0\n",
    "    for line in f.readlines():\n",
    "        line_data = json.loads(line)\n",
    "\n",
    "        if \"stream\" in line_data:\n",
    "            pass\n",
    "            #print(line_data[\"stream\"])\n",
    "        else:\n",
    "            print(line_data)\n",
    "    #print(update_count)\n",
    "    #print(trade_count)\n"
   ],
   "metadata": {
    "collapsed": false,
    "pycharm": {
     "name": "#%%\n"
    }
   }
  }
 ],
 "metadata": {
  "kernelspec": {
   "display_name": "Python 3",
   "language": "python",
   "name": "python3"
  },
  "language_info": {
   "codemirror_mode": {
    "name": "ipython",
    "version": 2
   },
   "file_extension": ".py",
   "mimetype": "text/x-python",
   "name": "python",
   "nbconvert_exporter": "python",
   "pygments_lexer": "ipython2",
   "version": "2.7.6"
  }
 },
 "nbformat": 4,
 "nbformat_minor": 0
}