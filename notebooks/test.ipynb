{
 "cells": [
  {
   "cell_type": "code",
   "execution_count": 40,
   "metadata": {
    "collapsed": true,
    "pycharm": {
     "name": "#%%\n"
    }
   },
   "outputs": [
    {
     "name": "stdout",
     "output_type": "stream",
     "text": [
      "d=(256)\n"
     ]
    }
   ],
   "source": [
    "d = 2**8\n",
    "print(\"d=(%d)\"%(d,))"
   ]
  },
  {
   "cell_type": "code",
   "execution_count": 41,
   "outputs": [
    {
     "data": {
      "text/plain": "<Figure size 432x288 with 1 Axes>",
      "image/png": "[encoded data removed]"
     },
     "metadata": {
      "needs_background": "light"
     },
     "output_type": "display_data"
    }
   ],
   "source": [
    "import numpy as np\n",
    "import matplotlib.pyplot as plt\n",
    "X = np.linspace(-np.pi, np.pi, 256,endpoint=True)\n",
    "C,S = np.cos(X), np.sin(X)\n",
    "\n",
    "plt.plot(X, C, color=\"blue\", linewidth=2.5, linestyle=\"-\")\n",
    "plt.plot(X, S, color=\"red\", linewidth=2.5, linestyle=\"-\")\n",
    "\n",
    "plt.xlim(X.min()*1.1, X.max()*1.1)\n",
    "plt.xticks([-np.pi, -np.pi/2, 0, np.pi/2, np.pi],\n",
    "[r'$-\\pi$', r'$-\\pi/2$', r'$0$', r'$+\\pi/2$', r'$+\\pi$'])\n",
    "\n",
    "plt.ylim(C.min()*1.1,C.max()*1.1)\n",
    "plt.yticks([-1, 0, +1],\n",
    "[r'$-1$', r'$0$', r'$+1$'])\n",
    "\n",
    "plt.show()"
   ],
   "metadata": {
    "collapsed": false,
    "pycharm": {
     "name": "#%%\n"
    }
   }
  },
  {
   "cell_type": "code",
   "execution_count": 42,
   "outputs": [],
   "source": [
    "a=1+1"
   ],
   "metadata": {
    "collapsed": false,
    "pycharm": {
     "name": "#%%\n"
    }
   }
  },
  {
   "cell_type": "markdown",
   "source": [
    "# 11"
   ],
   "metadata": {
    "collapsed": false,
    "pycharm": {
     "name": "#%% md\n"
    }
   }
  },
  {
   "cell_type": "code",
   "source": [
    "import pandas as pd\n",
    "import statsmodels.api as sm\n",
    "import matplotlib.pyplot as plt\n",
    "import numpy as np\n",
    "\n",
    "datas = pd.read_csv(\"../data/Salary_Data.csv\")\n",
    "y = datas.iloc[:, 1] # 因变量为第 2 列数据\n",
    "x = datas.iloc[:, 0] # 自变量为第 3 列数据\n",
    "\n",
    "from scipy.stats import pearsonr\n",
    "pccs = pearsonr(x, y)\n",
    "print(pccs)\n",
    "y_std= np.std(y)\n",
    "x_std= np.std(x)\n",
    "print(pccs[0]*y_std/x_std)\n",
    "x = sm.add_constant(x) # 若模型中有截距，必须有这一步\n",
    "model = sm.OLS(y, x).fit() # 构建最小二乘模型并拟合\n",
    "print(model.summary()) # 输出回归结果\n",
    "\n",
    "\n",
    "# 画图\n",
    "# 这两行代码在画图时添加中文必须用\n",
    "plt.rcParams['font.sans-serif'] = ['SimHei']\n",
    "plt.rcParams['axes.unicode_minus'] = False\n",
    "\n",
    "predicts = model.predict() # 模型的预测值\n",
    "x = datas.iloc[:, 0] # 自变量为第 3 列数据\n",
    "plt.scatter(x, y, label='实际值') # 散点图\n",
    "plt.plot(x, predicts, color = 'red', label='预测值')\n",
    "plt.legend() # 显示图例，即每条线对应 label 中的内容\n",
    "plt.show() # 显示图形\n",
    "\n"
   ],
   "metadata": {
    "collapsed": false,
    "pycharm": {
     "name": "#%%\n"
    }
   },
   "execution_count": 43,
   "outputs": [
    {
     "name": "stdout",
     "output_type": "stream",
     "text": [
      "(0.9782416184887599, 1.1430681092271564e-20)\n",
      "9449.962321455077\n",
      "                            OLS Regression Results                            \n",
      "==============================================================================\n",
      "Dep. Variable:                 Salary   R-squared:                       0.957\n",
      "Model:                            OLS   Adj. R-squared:                  0.955\n",
      "Method:                 Least Squares   F-statistic:                     622.5\n",
      "Date:                Tue, 11 Aug 2020   Prob (F-statistic):           1.14e-20\n",
      "Time:                        11:46:13   Log-Likelihood:                -301.44\n",
      "No. Observations:                  30   AIC:                             606.9\n",
      "Df Residuals:                      28   BIC:                             609.7\n",
      "Df Model:                           1                                         \n",
      "Covariance Type:            nonrobust                                         \n",
      "===================================================================================\n",
      "                      coef    std err          t      P>|t|      [0.025      0.975]\n",
      "-----------------------------------------------------------------------------------\n",
      "const            2.579e+04   2273.053     11.347      0.000    2.11e+04    3.04e+04\n",
      "YearsExperience  9449.9623    378.755     24.950      0.000    8674.119    1.02e+04\n",
      "==============================================================================\n",
      "Omnibus:                        2.140   Durbin-Watson:                   1.648\n",
      "Prob(Omnibus):                  0.343   Jarque-Bera (JB):                1.569\n",
      "Skew:                           0.363   Prob(JB):                        0.456\n",
      "Kurtosis:                       2.147   Cond. No.                         13.2\n",
      "==============================================================================\n",
      "\n",
      "Warnings:\n",
      "[1] Standard Errors assume that the covariance matrix of the errors is correctly specified.\n"
     ]
    },
    {
     "name": "stderr",
     "output_type": "stream",
     "text": [
      "/Users/denghui/.local/share/virtualenvs/sde-cfm_NoCz/lib/python3.7/site-packages/matplotlib/backends/backend_agg.py:238: RuntimeWarning: Glyph 39044 missing from current font.\n",
      "  font.set_text(s, 0.0, flags=flags)\n",
      "/Users/denghui/.local/share/virtualenvs/sde-cfm_NoCz/lib/python3.7/site-packages/matplotlib/backends/backend_agg.py:238: RuntimeWarning: Glyph 27979 missing from current font.\n",
      "  font.set_text(s, 0.0, flags=flags)\n",
      "/Users/denghui/.local/share/virtualenvs/sde-cfm_NoCz/lib/python3.7/site-packages/matplotlib/backends/backend_agg.py:238: RuntimeWarning: Glyph 20540 missing from current font.\n",
      "  font.set_text(s, 0.0, flags=flags)\n",
      "/Users/denghui/.local/share/virtualenvs/sde-cfm_NoCz/lib/python3.7/site-packages/matplotlib/backends/backend_agg.py:238: RuntimeWarning: Glyph 23454 missing from current font.\n",
      "  font.set_text(s, 0.0, flags=flags)\n",
      "/Users/denghui/.local/share/virtualenvs/sde-cfm_NoCz/lib/python3.7/site-packages/matplotlib/backends/backend_agg.py:238: RuntimeWarning: Glyph 38469 missing from current font.\n",
      "  font.set_text(s, 0.0, flags=flags)\n",
      "/Users/denghui/.local/share/virtualenvs/sde-cfm_NoCz/lib/python3.7/site-packages/matplotlib/backends/backend_agg.py:201: RuntimeWarning: Glyph 39044 missing from current font.\n",
      "  font.set_text(s, 0, flags=flags)\n",
      "/Users/denghui/.local/share/virtualenvs/sde-cfm_NoCz/lib/python3.7/site-packages/matplotlib/backends/backend_agg.py:201: RuntimeWarning: Glyph 27979 missing from current font.\n",
      "  font.set_text(s, 0, flags=flags)\n",
      "/Users/denghui/.local/share/virtualenvs/sde-cfm_NoCz/lib/python3.7/site-packages/matplotlib/backends/backend_agg.py:201: RuntimeWarning: Glyph 20540 missing from current font.\n",
      "  font.set_text(s, 0, flags=flags)\n",
      "/Users/denghui/.local/share/virtualenvs/sde-cfm_NoCz/lib/python3.7/site-packages/matplotlib/backends/backend_agg.py:201: RuntimeWarning: Glyph 23454 missing from current font.\n",
      "  font.set_text(s, 0, flags=flags)\n",
      "/Users/denghui/.local/share/virtualenvs/sde-cfm_NoCz/lib/python3.7/site-packages/matplotlib/backends/backend_agg.py:201: RuntimeWarning: Glyph 38469 missing from current font.\n",
      "  font.set_text(s, 0, flags=flags)\n"
     ]
    },
    {
     "data": {
      "text/plain": "<Figure size 432x288 with 1 Axes>",
      "image/png": "[encoded data removed]"
     },
     "metadata": {
      "needs_background": "light"
     },
     "output_type": "display_data"
    }
   ]
  }
 ],
 "metadata": {
  "kernelspec": {
   "display_name": "Python 3",
   "language": "python",
   "name": "python3"
  },
  "language_info": {
   "codemirror_mode": {
    "name": "ipython",
    "version": 2
   },
   "file_extension": ".py",
   "mimetype": "text/x-python",
   "name": "python",
   "nbconvert_exporter": "python",
   "pygments_lexer": "ipython2",
   "version": "2.7.6"
  }
 },
 "nbformat": 4,
 "nbformat_minor": 0
}